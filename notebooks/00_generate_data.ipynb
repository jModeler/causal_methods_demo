{
  "cells": [
    {
      "cell_type": "raw",
      "metadata": {
        "vscode": {
          "languageId": "raw"
        }
      },
      "source": [
        "# Synthetic Tax Software User Data Generation\n",
        "\n",
        "This notebook demonstrates the generation of synthetic data for analyzing the causal impact of the **\"Smart Filing Assistant\"** feature on user conversion and engagement.\n",
        "\n",
        "## Business Context\n",
        "\n",
        "- **Company**: B2C Tax Software Provider\n",
        "- **Feature**: Smart Filing Assistant (launched globally before 2024 tax season)\n",
        "- **Challenge**: No A/B test was conducted, so we need causal inference methods\n",
        "- **Goal**: Estimate causal impact on user conversion and engagement\n",
        "\n",
        "## Data Structure\n",
        "\n",
        "Our synthetic dataset includes:\n",
        "1. **User Demographics**: Age, income, device type, region, etc.\n",
        "2. **Pre-treatment (2023)**: Baseline filing behavior\n",
        "3. **Treatment**: Whether user adopted Smart Filing Assistant\n",
        "4. **Post-treatment (2024)**: Outcomes like conversion, time to complete, satisfaction\n",
        "5. **Confounders**: Tech-savviness, early login behavior\n"
      ]
    },
    {
      "cell_type": "code",
      "execution_count": null,
      "metadata": {},
      "outputs": [],
      "source": [
        "import sys\n",
        "import os\n",
        "sys.path.append('..')\n",
        "\n",
        "import pandas as pd\n",
        "import numpy as np\n",
        "import matplotlib.pyplot as plt\n",
        "import seaborn as sns\n",
        "from src.data_simulation import TaxSoftwareDataSimulator, generate_and_save_data\n",
        "\n",
        "# Set style\n",
        "plt.style.use('seaborn-v0_8')\n",
        "sns.set_palette(\"husl\")\n",
        "\n",
        "# Configure pandas display\n",
        "pd.set_option('display.max_columns', None)\n",
        "pd.set_option('display.width', None)\n",
        "\n",
        "print(\"✅ Imports successful!\")\n"
      ]
    },
    {
      "cell_type": "raw",
      "metadata": {
        "vscode": {
          "languageId": "raw"
        }
      },
      "source": [
        "## 🔧 **New: Configurable Data Generation**\n",
        "\n",
        "The data simulation is now **fully parameterized** using YAML configuration files! This eliminates magic numbers and makes experimentation easy.\n",
        "\n",
        "### **Configuration Features:**\n",
        "- **📊 All parameters externalized** - No more hard-coded values\n",
        "- **🎯 Multiple scenarios** - Different configs for sensitivity analysis  \n",
        "- **🔄 Easy experimentation** - Change parameters without code changes\n",
        "- **📝 Self-documenting** - YAML files explain each parameter\n"
      ]
    },
    {
      "cell_type": "code",
      "execution_count": null,
      "metadata": {},
      "outputs": [],
      "source": [
        "# Load configuration to see parameters\n",
        "from src.data_simulation import load_config\n",
        "import yaml\n",
        "\n",
        "# Load the main configuration\n",
        "config = load_config(\"../config/simulation_config.yaml\")\n",
        "\n",
        "print(\"📋 SIMULATION CONFIGURATION PREVIEW\")\n",
        "print(\"=\"*50)\n",
        "print(f\"Random seed: {config['simulation']['random_seed']}\")\n",
        "print(f\"Default users: {config['simulation']['default_n_users']:,}\")\n",
        "print(f\"Treatment base rate: {config['treatment']['base_adoption_rate']:.1%}\")\n",
        "print(f\"Treatment base effect: {config['outcomes_2024']['filing']['treatment_effects']['base_effect']:.1%}\")\n",
        "\n",
        "print(\"\\n📊 DEMOGRAPHIC DISTRIBUTIONS:\")\n",
        "for demo_type in ['income_brackets', 'device_types', 'user_types']:\n",
        "    values = config['demographics'][demo_type]['values']\n",
        "    weights = config['demographics'][demo_type]['weights']\n",
        "    print(f\"  {demo_type}: {dict(zip(values, weights))}\")\n",
        "\n",
        "print(\"\\n🎯 TECH-SAVVINESS PARAMETERS:\")\n",
        "tech_config = config['tech_savviness']\n",
        "print(f\"  Base score: {tech_config['base_score']}\")\n",
        "print(f\"  Young boost (age < {tech_config['age_adjustments']['young_threshold']}): +{tech_config['age_adjustments']['young_boost']}\")\n",
        "print(f\"  High income boost: +{tech_config['income_adjustments']['high_income_boost']}\")\n",
        "\n",
        "print(\"\\\\n✅ All parameters are now configurable in YAML files!\")\n"
      ]
    },
    {
      "cell_type": "raw",
      "metadata": {
        "vscode": {
          "languageId": "raw"
        }
      },
      "source": [
        "## 🎛️ **Multiple Scenario Comparison**\n",
        "\n",
        "Let's generate datasets with different configurations to see how parameters affect outcomes:\n"
      ]
    },
    {
      "cell_type": "code",
      "execution_count": null,
      "metadata": {},
      "outputs": [],
      "source": [
        "# Generate datasets with different scenarios\n",
        "from src.data_simulation import TaxSoftwareDataSimulator\n",
        "import os\n",
        "\n",
        "scenarios = {\n",
        "    'baseline': '../config/simulation_config.yaml',\n",
        "    'high_treatment': '../config/scenario_high_treatment.yaml', \n",
        "    'low_adoption': '../config/scenario_low_adoption.yaml'\n",
        "}\n",
        "\n",
        "results = {}\n",
        "sample_size = 5000  # Smaller for demo\n",
        "\n",
        "print(\"🔄 GENERATING MULTIPLE SCENARIOS\")\n",
        "print(\"=\"*50)\n",
        "\n",
        "for scenario_name, config_path in scenarios.items():\n",
        "    if os.path.exists(config_path):\n",
        "        print(f\"\\\\n📊 Generating {scenario_name} scenario...\")\n",
        "        \n",
        "        simulator = TaxSoftwareDataSimulator(n_users=sample_size, config_path=config_path)\n",
        "        df = simulator.generate_complete_dataset()\n",
        "        \n",
        "        results[scenario_name] = {\n",
        "            'data': df,\n",
        "            'treatment_rate': df['used_smart_assistant'].mean(),\n",
        "            'filing_rate_2024': df['filed_2024'].mean(),\n",
        "            'naive_effect': (df[df['used_smart_assistant']==1]['filed_2024'].mean() - \n",
        "                           df[df['used_smart_assistant']==0]['filed_2024'].mean())\n",
        "        }\n",
        "        \n",
        "        print(f\"   Treatment rate: {results[scenario_name]['treatment_rate']:.1%}\")\n",
        "        print(f\"   2024 filing rate: {results[scenario_name]['filing_rate_2024']:.1%}\")\n",
        "        print(f\"   Naive treatment effect: {results[scenario_name]['naive_effect']:.1%}\")\n",
        "    else:\n",
        "        print(f\"⚠️  Config file not found: {config_path}\")\n",
        "\n",
        "print(\"\\\\n✅ Scenario generation complete!\")\n"
      ]
    },
    {
      "cell_type": "code",
      "execution_count": null,
      "metadata": {},
      "outputs": [],
      "source": [
        "# Compare scenarios visually\n",
        "import matplotlib.pyplot as plt\n",
        "import pandas as pd\n",
        "\n",
        "if len(results) > 1:\n",
        "    # Create comparison DataFrame\n",
        "    comparison_data = []\n",
        "    for scenario, result in results.items():\n",
        "        comparison_data.append({\n",
        "            'Scenario': scenario.replace('_', ' ').title(),\n",
        "            'Treatment Rate': result['treatment_rate'],\n",
        "            'Filing Rate 2024': result['filing_rate_2024'],\n",
        "            'Naive Treatment Effect': result['naive_effect']\n",
        "        })\n",
        "    \n",
        "    comparison_df = pd.DataFrame(comparison_data)\n",
        "    \n",
        "    # Plot comparison\n",
        "    fig, axes = plt.subplots(1, 3, figsize=(15, 5))\n",
        "    \n",
        "    # Treatment rates\n",
        "    axes[0].bar(comparison_df['Scenario'], comparison_df['Treatment Rate'], color='skyblue')\n",
        "    axes[0].set_title('Treatment Adoption Rates')\n",
        "    axes[0].set_ylabel('Rate')\n",
        "    axes[0].tick_params(axis='x', rotation=45)\n",
        "    \n",
        "    # Filing rates\n",
        "    axes[1].bar(comparison_df['Scenario'], comparison_df['Filing Rate 2024'], color='lightgreen')\n",
        "    axes[1].set_title('2024 Filing Rates')\n",
        "    axes[1].set_ylabel('Rate')\n",
        "    axes[1].tick_params(axis='x', rotation=45)\n",
        "    \n",
        "    # Treatment effects\n",
        "    axes[2].bar(comparison_df['Scenario'], comparison_df['Naive Treatment Effect'], color='coral')\n",
        "    axes[2].set_title('Naive Treatment Effects')\n",
        "    axes[2].set_ylabel('Effect Size')\n",
        "    axes[2].tick_params(axis='x', rotation=45)\n",
        "    \n",
        "    plt.tight_layout()\n",
        "    plt.show()\n",
        "    \n",
        "    print(\"📈 SCENARIO COMPARISON TABLE:\")\n",
        "    print(comparison_df.round(3))\n",
        "else:\n",
        "    print(\"⚠️  Only baseline scenario available for comparison\")\n"
      ]
    },
    {
      "cell_type": "raw",
      "metadata": {
        "vscode": {
          "languageId": "raw"
        }
      },
      "source": [
        "## 🔗 **Use the Baseline Scenario for Analysis**\n",
        "\n",
        "Let's continue with the baseline scenario for our main analysis:\n"
      ]
    },
    {
      "cell_type": "code",
      "execution_count": null,
      "metadata": {},
      "outputs": [],
      "source": [
        "# Use the baseline scenario data\n",
        "if 'baseline' in results:\n",
        "    df = results['baseline']['data']\n",
        "else:\n",
        "    # Generate baseline if not available\n",
        "    from src.data_simulation import generate_and_save_data\n",
        "    df = generate_and_save_data()\n",
        "\n",
        "print(\"📊 BASELINE DATASET LOADED\")\n",
        "print(\"=\"*40)\n",
        "print(f\"Dataset shape: {df.shape}\")\n",
        "print(f\"Treatment rate: {df['used_smart_assistant'].mean():.1%}\")\n",
        "print(f\"2024 filing rate: {df['filed_2024'].mean():.1%}\")\n",
        "\n",
        "# Display first few rows\n",
        "df.head()\n"
      ]
    },
    {
      "cell_type": "raw",
      "metadata": {
        "vscode": {
          "languageId": "raw"
        }
      },
      "source": [
        "## Load Generated Dataset\n"
      ]
    },
    {
      "cell_type": "code",
      "execution_count": null,
      "metadata": {},
      "outputs": [],
      "source": [
        "# Load the generated dataset\n",
        "df = pd.read_csv(\"../data/simulated_users.csv\")\n",
        "\n",
        "# Basic info about the dataset\n",
        "print(\"Dataset Shape:\", df.shape)\n",
        "print(\"\\nColumn Names:\")\n",
        "print(df.columns.tolist())\n",
        "\n",
        "# First few rows\n",
        "df.head()\n"
      ]
    },
    {
      "cell_type": "code",
      "execution_count": null,
      "metadata": {},
      "outputs": [],
      "source": [
        "# Summary statistics\n",
        "df.describe()\n"
      ]
    },
    {
      "cell_type": "raw",
      "metadata": {
        "vscode": {
          "languageId": "raw"
        }
      },
      "source": [
        "## Key Variables Analysis\n"
      ]
    },
    {
      "cell_type": "code",
      "execution_count": null,
      "metadata": {},
      "outputs": [],
      "source": [
        "# Treatment and outcome distributions\n",
        "fig, axes = plt.subplots(2, 2, figsize=(15, 10))\n",
        "\n",
        "# Treatment distribution\n",
        "treatment_counts = df['used_smart_assistant'].value_counts()\n",
        "axes[0,0].pie(treatment_counts.values, labels=['No', 'Yes'], autopct='%1.1f%%', startangle=90)\n",
        "axes[0,0].set_title('Smart Assistant Usage Distribution')\n",
        "\n",
        "# 2024 filing rates by treatment\n",
        "filing_by_treatment = df.groupby('used_smart_assistant')['filed_2024'].mean()\n",
        "axes[0,1].bar(['Control', 'Treated'], filing_by_treatment.va'lues, color=['lightcoral', 'lightblue'])\n",
        "axes[0,1].set_title('2024 Filing Rate by Treatment')\n",
        "axes[0,1].set_ylabel('Filing Rate')\n",
        "for i, v in enumerate(filing_by_treatment.values):\n",
        "    axes[0,1].text(i, v + 0.01, f'{v:.1%}', ha='center')\n",
        "\n",
        "# Income distribution\n",
        "income_counts = df['income_bracket'].value_counts()\n",
        "axes[1,0].bar(range(len(income_counts)), income_counts.values)\n",
        "axes[1,0].set_xticks(range(len(income_counts)))\n",
        "axes[1,0].set_xticklabels(income_counts.index, rotation=45)\n",
        "axes[1,0].set_title('Income Bracket Distribution')\n",
        "axes[1,0].set_ylabel('Count')\n",
        "\n",
        "# Tech-savviness distribution\n",
        "axes[1,1].hist(df['tech_savviness'], bins=20, alpha=0.7, edgecolor='black')\n",
        "axes[1,1].set_title('Tech-Savviness Distribution')\n",
        "axes[1,1].set_xlabel('Tech-Savviness Score (0-100)')\n",
        "axes[1,1].set_ylabel('Count')\n",
        "\n",
        "plt.tight_layout()\n",
        "plt.show()\n"
      ]
    }
  ],
  "metadata": {
    "kernelspec": {
      "display_name": "Python 3",
      "language": "python",
      "name": "python3"
    },
    "language_info": {
      "codemirror_mode": {
        "name": "ipython",
        "version": 3
      },
      "file_extension": ".py",
      "mimetype": "text/x-python",
      "name": "python",
      "nbconvert_exporter": "python",
      "pygments_lexer": "ipython3",
      "version": "3.10.13"
    }
  },
  "nbformat": 4,
  "nbformat_minor": 2
}
